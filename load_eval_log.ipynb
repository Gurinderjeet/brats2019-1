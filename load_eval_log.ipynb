{
 "cells": [
  {
   "cell_type": "code",
   "execution_count": 10,
   "metadata": {},
   "outputs": [],
   "source": [
    "import numpy as np\n",
    "import pickle\n",
    "import os"
   ]
  },
  {
   "cell_type": "code",
   "execution_count": 11,
   "metadata": {},
   "outputs": [],
   "source": [
    "path = './test_eval.p'"
   ]
  },
  {
   "cell_type": "code",
   "execution_count": 12,
   "metadata": {},
   "outputs": [
    {
     "name": "stdout",
     "output_type": "stream",
     "text": [
      "[array([0.99721329, 0.67898561, 0.80037678, 0.84165636, 0.87378689]), array([0.9990227 , 0.7007125 , 0.91888088, 0.87941211, 0.89032723]), array([0.99887193, 0.75694622, 0.876373  , 0.89232464, 0.89275765]), array([0.99845912, 0.66040285, 0.84258156, 0.82097013, 0.88666305])]\n"
     ]
    }
   ],
   "source": [
    "log = pickle.load( open( path, 'rb' ) )\n",
    "print(log)"
   ]
  },
  {
   "cell_type": "code",
   "execution_count": 14,
   "metadata": {},
   "outputs": [
    {
     "name": "stdout",
     "output_type": "stream",
     "text": [
      "[0.99839176 0.69926179 0.85955306 0.85859081 0.88588371]\n"
     ]
    }
   ],
   "source": [
    "print(np.mean(log,axis=0))"
   ]
  },
  {
   "cell_type": "code",
   "execution_count": null,
   "metadata": {},
   "outputs": [],
   "source": []
  }
 ],
 "metadata": {
  "kernelspec": {
   "display_name": "Python 3.6",
   "language": "python",
   "name": "py36"
  },
  "language_info": {
   "codemirror_mode": {
    "name": "ipython",
    "version": 3
   },
   "file_extension": ".py",
   "mimetype": "text/x-python",
   "name": "python",
   "nbconvert_exporter": "python",
   "pygments_lexer": "ipython3",
   "version": "3.6.8"
  }
 },
 "nbformat": 4,
 "nbformat_minor": 2
}
