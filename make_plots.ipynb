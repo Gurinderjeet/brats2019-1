{
 "cells": [
  {
   "cell_type": "code",
   "execution_count": 35,
   "metadata": {},
   "outputs": [],
   "source": [
    "import pandas as pd\n",
    "import numpy as np\n",
    "from matplotlib import pyplot as plt\n",
    "import seaborn as sns\n",
    "from scipy import stats\n",
    "%matplotlib inline"
   ]
  },
  {
   "cell_type": "code",
   "execution_count": 40,
   "metadata": {},
   "outputs": [],
   "source": [
    "files = {'Ensemble':'/home/dlachinov/brats2019/data/excel_val/ensemble.csv',\n",
    "        'Distill':'/home/dlachinov/brats2019/data/excel_val/023r3.csv',\n",
    "        'ResUNet':'/home/dlachinov/brats2019/data/excel_val/023r2.csv',\n",
    "        }\n"
   ]
  },
  {
   "cell_type": "code",
   "execution_count": 41,
   "metadata": {},
   "outputs": [
    {
     "name": "stdout",
     "output_type": "stream",
     "text": [
      "   Location   Region    value\n",
      "0  Ensemble  Dice_ET  0.93253\n",
      "1  Ensemble  Dice_ET  0.87987\n",
      "2  Ensemble  Dice_ET  0.89202\n",
      "3  Ensemble  Dice_ET  0.45764\n",
      "4  Ensemble  Dice_ET  0.83493\n"
     ]
    }
   ],
   "source": [
    "data_frames = []\n",
    "\n",
    "for idx,(k,v) in enumerate(files.items()):\n",
    "    df = pd.read_csv(files[k]).assign(Location=k)\n",
    "    data_frames.append(df)\n",
    "    \n",
    "cdf = pd.concat(data_frames)\n",
    "mdf = pd.melt(cdf.loc[:,['Dice_ET', 'Dice_WT', 'Dice_TC', 'Location']], id_vars=['Location'], var_name=['Region'])\n",
    "print(mdf.head())"
   ]
  },
  {
   "cell_type": "code",
   "execution_count": null,
   "metadata": {},
   "outputs": [],
   "source": []
  },
  {
   "cell_type": "code",
   "execution_count": null,
   "metadata": {},
   "outputs": [],
   "source": []
  },
  {
   "cell_type": "code",
   "execution_count": 42,
   "metadata": {},
   "outputs": [
    {
     "name": "stderr",
     "output_type": "stream",
     "text": [
      "The PostScript backend does not support transparency; partially transparent artists will be rendered opaque.\n",
      "The PostScript backend does not support transparency; partially transparent artists will be rendered opaque.\n"
     ]
    },
    {
     "data": {
      "image/png": "[encoded data removed]",
      "text/plain": [
       "<Figure size 432x288 with 1 Axes>"
      ]
     },
     "metadata": {
      "needs_background": "light"
     },
     "output_type": "display_data"
    }
   ],
   "source": [
    "ax = sns.boxplot(x=\"Region\", y=\"value\", hue=\"Location\", data=mdf)\n",
    "plt.savefig('test_plot.eps', format='eps')\n",
    "plt.show()\n"
   ]
  },
  {
   "cell_type": "code",
   "execution_count": 46,
   "metadata": {},
   "outputs": [
    {
     "data": {
      "text/plain": [
       "MannwhitneyuResult(statistic=7900.0, pvalue=0.43952171166257625)"
      ]
     },
     "execution_count": 46,
     "metadata": {},
     "output_type": "execute_result"
    }
   ],
   "source": [
    "stats.mannwhitneyu(cdf.loc[cdf.Location=='Ensemble','Dice_TC'],cdf.loc[cdf.Location=='Distill','Dice_TC'],alternative='greater')"
   ]
  },
  {
   "cell_type": "code",
   "execution_count": null,
   "metadata": {},
   "outputs": [],
   "source": []
  },
  {
   "cell_type": "code",
   "execution_count": null,
   "metadata": {},
   "outputs": [],
   "source": []
  }
 ],
 "metadata": {
  "kernelspec": {
   "display_name": "Python 3",
   "language": "python",
   "name": "python3"
  },
  "language_info": {
   "codemirror_mode": {
    "name": "ipython",
    "version": 3
   },
   "file_extension": ".py",
   "mimetype": "text/x-python",
   "name": "python",
   "nbconvert_exporter": "python",
   "pygments_lexer": "ipython3",
   "version": "3.6.3"
  }
 },
 "nbformat": 4,
 "nbformat_minor": 4
}
