{
 "cells": [
  {
   "cell_type": "code",
   "execution_count": 1,
   "metadata": {},
   "outputs": [],
   "source": [
    "import nibabel as nii\n",
    "import numpy as np\n",
    "import os\n",
    "import tqdm\n",
    "import dataloader\n",
    "import loader_helper\n",
    "from scipy import ndimage as ndi\n",
    "from skimage.filters import threshold_otsu\n",
    "import pickle"
   ]
  },
  {
   "cell_type": "code",
   "execution_count": 2,
   "metadata": {},
   "outputs": [],
   "source": [
    "train_path = '/home/localadmin/segthor/data/train_resampled'\n",
    "output_path = '/home/localadmin/segthor/data/train_resampled_cropped'"
   ]
  },
  {
   "cell_type": "code",
   "execution_count": 3,
   "metadata": {},
   "outputs": [
    {
     "name": "stdout",
     "output_type": "stream",
     "text": [
      "['Patient_01', 'Patient_02', 'Patient_03', 'Patient_04', 'Patient_05', 'Patient_06', 'Patient_07', 'Patient_08', 'Patient_09', 'Patient_10', 'Patient_11', 'Patient_12', 'Patient_13', 'Patient_14', 'Patient_15', 'Patient_16', 'Patient_17', 'Patient_18', 'Patient_19', 'Patient_20', 'Patient_21', 'Patient_22', 'Patient_23', 'Patient_24', 'Patient_25', 'Patient_26', 'Patient_27', 'Patient_28', 'Patient_29', 'Patient_30', 'Patient_31', 'Patient_32', 'Patient_33', 'Patient_34', 'Patient_35', 'Patient_36', 'Patient_37', 'Patient_38', 'Patient_39', 'Patient_40']\n"
     ]
    }
   ],
   "source": [
    "file_list = [f for f in os.listdir(train_path) if os.path.isdir(os.path.join(train_path, f))]\n",
    "file_list.sort()\n",
    "print(file_list)"
   ]
  },
  {
   "cell_type": "code",
   "execution_count": 4,
   "metadata": {},
   "outputs": [],
   "source": [
    "def read_nii(file_path):\n",
    "    return nii.load(file_path)"
   ]
  },
  {
   "cell_type": "code",
   "execution_count": 5,
   "metadata": {},
   "outputs": [
    {
     "name": "stdout",
     "output_type": "stream",
     "text": [
      "[25 99  0] [476 380 304]\n",
      "Patient_01\n",
      "[ 8 98  0] [489 399 409]\n",
      "Patient_02\n",
      "[  0 143   0] [490 381 244]\n",
      "Patient_03\n",
      "[  9 125   0] [462 395 262]\n",
      "Patient_04\n",
      "[ 14 124   0] [489 401 378]\n",
      "Patient_05\n",
      "[ 16 117   0] [470 399 331]\n",
      "Patient_06\n",
      "[26 91  0] [472 363 238]\n",
      "Patient_07\n",
      "[ 10 126   0] [481 448 284]\n",
      "Patient_08\n",
      "[ 39 118   0] [450 370 256]\n",
      "Patient_09\n",
      "[ 0 61  0] [490 374 216]\n",
      "Patient_10\n",
      "[ 41 128   0] [590 490 299]\n",
      "Patient_11\n",
      "[ 35 117   0] [451 387 227]\n",
      "Patient_12\n",
      "[ 8 93  0] [485 375 303]\n",
      "Patient_13\n",
      "[ 21 121   0] [446 389 269]\n",
      "Patient_14\n",
      "[ 0 85  0] [458 353 249]\n",
      "Patient_15\n",
      "[ 0 61  0] [499 397 276]\n",
      "Patient_16\n",
      "[ 14 146   0] [461 403 276]\n",
      "Patient_17\n",
      "[ 0 98  0] [499 408 304]\n",
      "Patient_18\n",
      "[  8 126   0] [493 499 316]\n",
      "Patient_19\n",
      "[ 72 162   0] [639 540 342]\n",
      "Patient_20\n",
      "[  0 115   0] [493 379 262]\n",
      "Patient_21\n",
      "[ 29 112   0] [457 403 301]\n",
      "Patient_22\n",
      "[ 18 115   0] [484 371 254]\n",
      "Patient_23\n",
      "[46 45  0] [454 395 279]\n",
      "Patient_24\n",
      "[  7 130   0] [491 383 249]\n",
      "Patient_25\n",
      "[11 35  0] [488 360 328]\n",
      "Patient_26\n",
      "[  0 124   0] [482 386 283]\n",
      "Patient_27\n",
      "[ 6 43  0] [499 400 297]\n",
      "Patient_28\n",
      "[  0 122   0] [499 445 287]\n",
      "Patient_29\n",
      "[27 53  0] [471 450 284]\n",
      "Patient_30\n",
      "[  0 141   0] [477 396 246]\n",
      "Patient_31\n",
      "[24 88  0] [474 395 261]\n",
      "Patient_32\n",
      "[11 71  0] [485 361 350]\n",
      "Patient_33\n",
      "[21 80  0] [487 381 319]\n",
      "Patient_34\n",
      "[ 82 201   0] [615 699 240]\n",
      "Patient_35\n",
      "[  0 103   0] [487 402 250]\n",
      "Patient_36\n",
      "[ 0 97  0] [499 404 292]\n",
      "Patient_37\n",
      "[ 24 117   0] [462 369 264]\n",
      "Patient_38\n",
      "[ 8 76  0] [493 379 303]\n",
      "Patient_39\n",
      "[  0 117   0] [482 386 337]\n",
      "Patient_40\n"
     ]
    }
   ],
   "source": [
    "for i,f in enumerate(file_list):\n",
    "    filename = os.path.join(train_path,f,f+'.nii.gz')\n",
    "    filename_gt = os.path.join(train_path,f,'GT.nii.gz')\n",
    "    header = read_nii(filename)\n",
    "    image=np.array(header.get_data()).astype(np.float32)\n",
    "    gt = np.array(read_nii(filename_gt).get_data())\n",
    "    \n",
    "    image_med = ndi.median_filter(image,size=20)\n",
    "    treshold = threshold_otsu(image_med.reshape(image_med.shape[0],-1))\n",
    "    image_tr = image_med > treshold\n",
    "    \n",
    "    bbox = loader_helper.bbox3(image_tr)\n",
    "    \n",
    "    desc = {\n",
    "        'shape':image.shape,\n",
    "        'bbox':bbox\n",
    "    }\n",
    "    \n",
    "    print(bbox[0],bbox[1])\n",
    "    \n",
    "    image_crop = image[bbox[0,0]:bbox[1,0],bbox[0,1]:bbox[1,1],bbox[0,2]:bbox[1,2]]\n",
    "    gt_crop = gt[bbox[0,0]:bbox[1,0],bbox[0,1]:bbox[1,1],bbox[0,2]:bbox[1,2]]\n",
    "    \n",
    "    #image_norm = dataloader.normalize(image, image > -500)\n",
    "    #np.save(os.path.join(output_path,f+'.npy'),image_norm)\n",
    "    os.mkdir(os.path.join(output_path, f))\n",
    "    new_image = nii.Nifti1Image(image_crop.astype(np.float32), header.affine)\n",
    "    new_gt = nii.Nifti1Image(gt_crop.astype(np.float32), header.affine)\n",
    "    \n",
    "    nii.save(new_image,os.path.join(output_path,f,f+'.nii.gz'))\n",
    "    nii.save(new_gt,os.path.join(output_path,f,'GT.nii.gz'))\n",
    "    pickle.dump( desc, open( os.path.join(output_path,f,'desc.p'), 'wb' ) )\n",
    "    print(f)"
   ]
  },
  {
   "cell_type": "code",
   "execution_count": null,
   "metadata": {},
   "outputs": [],
   "source": []
  }
 ],
 "metadata": {
  "kernelspec": {
   "display_name": "Python 3.6",
   "language": "python",
   "name": "py36"
  },
  "language_info": {
   "codemirror_mode": {
    "name": "ipython",
    "version": 3
   },
   "file_extension": ".py",
   "mimetype": "text/x-python",
   "name": "python",
   "nbconvert_exporter": "python",
   "pygments_lexer": "ipython3",
   "version": "3.6.8"
  }
 },
 "nbformat": 4,
 "nbformat_minor": 2
}
