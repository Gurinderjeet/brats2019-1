{
 "cells": [
  {
   "cell_type": "code",
   "execution_count": 12,
   "metadata": {},
   "outputs": [],
   "source": [
    "import SimpleITK as sitk\n",
    "import nibabel as nii\n",
    "import numpy as np"
   ]
  },
  {
   "cell_type": "code",
   "execution_count": 13,
   "metadata": {},
   "outputs": [
    {
     "name": "stdout",
     "output_type": "stream",
     "text": [
      "(500, 500, 410) [0 1 2 3 4]\n"
     ]
    }
   ],
   "source": [
    "gt_path = '/home/localadmin/segthor/data/train_resampled/Patient_02/GT.nii.gz'\n",
    "label = np.array(nii.load(gt_path).get_data()).astype(np.uint8)\n",
    "print(label.shape, np.unique(label))"
   ]
  },
  {
   "cell_type": "code",
   "execution_count": 14,
   "metadata": {},
   "outputs": [
    {
     "name": "stdout",
     "output_type": "stream",
     "text": [
      "(500, 500, 410) [0 1 2 3 4]\n"
     ]
    }
   ],
   "source": [
    "pred_label = np.random.randint(5, size=np.prod(label.shape)).reshape(label.shape).astype(np.uint8)\n",
    "print(pred_label.shape, np.unique(pred_label))"
   ]
  },
  {
   "cell_type": "code",
   "execution_count": 15,
   "metadata": {},
   "outputs": [],
   "source": [
    "overelap_measures = sitk.LabelOverlapMeasuresImageFilter()\n",
    "hausdorff_distance_filter = sitk.HausdorffDistanceImageFilter()"
   ]
  },
  {
   "cell_type": "code",
   "execution_count": 21,
   "metadata": {},
   "outputs": [
    {
     "name": "stdout",
     "output_type": "stream",
     "text": [
      "0.3329469721221371\n"
     ]
    }
   ],
   "source": [
    "overelap_measures.Execute(sitk.GetImageFromArray((label==0).astype(np.uint8)), sitk.GetImageFromArray((pred_label==0).astype(np.uint8)))\n",
    "print(overelap_measures.GetDiceCoefficient())"
   ]
  },
  {
   "cell_type": "code",
   "execution_count": 25,
   "metadata": {},
   "outputs": [
    {
     "name": "stdout",
     "output_type": "stream",
     "text": [
      "0.3329470897310247\n"
     ]
    }
   ],
   "source": [
    "print(2.0 * np.sum((label==0).astype(np.float32)*(pred_label==0).astype(np.float32))/np.sum((label==0).astype(np.float32) + (pred_label==0).astype(np.float32)))"
   ]
  },
  {
   "cell_type": "code",
   "execution_count": 27,
   "metadata": {},
   "outputs": [
    {
     "name": "stdout",
     "output_type": "stream",
     "text": [
      "28.91366458960192\n"
     ]
    }
   ],
   "source": [
    "hausdorff_distance_filter.Execute(sitk.GetImageFromArray((label==0).astype(np.uint8)), sitk.GetImageFromArray((pred_label==0).astype(np.uint8)))\n",
    "print(hausdorff_distance_filter.GetHausdorffDistance())"
   ]
  },
  {
   "cell_type": "code",
   "execution_count": null,
   "metadata": {},
   "outputs": [],
   "source": []
  }
 ],
 "metadata": {
  "kernelspec": {
   "display_name": "Python 3.6",
   "language": "python",
   "name": "py36"
  },
  "language_info": {
   "codemirror_mode": {
    "name": "ipython",
    "version": 3
   },
   "file_extension": ".py",
   "mimetype": "text/x-python",
   "name": "python",
   "nbconvert_exporter": "python",
   "pygments_lexer": "ipython3",
   "version": "3.6.5"
  }
 },
 "nbformat": 4,
 "nbformat_minor": 2
}
