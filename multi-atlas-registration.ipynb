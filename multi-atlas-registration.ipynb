{
 "cells": [
  {
   "cell_type": "code",
   "execution_count": 1,
   "metadata": {},
   "outputs": [],
   "source": [
    "import SimpleITK as sitk\n",
    "import os\n",
    "#print(sitk.__version__)\n",
    "import numpy as np"
   ]
  },
  {
   "cell_type": "code",
   "execution_count": 2,
   "metadata": {},
   "outputs": [],
   "source": [
    "def normalize(image, mask):\n",
    "    \"\"\"\n",
    "    perform data normalization\n",
    "    :param image: input nd array\n",
    "    :param mask: corresponding foreground mask\n",
    "    :return: normalized array\n",
    "    \"\"\"\n",
    "    ret = image.copy()\n",
    "    image_masked = np.ma.masked_array(ret, ~(mask))\n",
    "    ret[mask] = ret[mask] - np.mean(image_masked)\n",
    "    ret[mask] = ret[mask] / np.var(image_masked) ** 0.5\n",
    "\n",
    "    ret[~mask] = -100.\n",
    "\n",
    "    return ret"
   ]
  },
  {
   "cell_type": "code",
   "execution_count": 3,
   "metadata": {},
   "outputs": [],
   "source": [
    "path = '/home/localadmin/segthor/data/train_resampled2_2_25'\n",
    "test_image = 'Patient_01'\n",
    "\n",
    "fixed_image = sitk.ReadImage(os.path.join(path,test_image,test_image+'.nii.gz'))\n",
    "#fixed_image_np = sitk.GetArrayFromImage(fixed_image)\n",
    "#print(image_np.shape)\n",
    "#fixed_image_np = normalize(fixed_image_np, fixed_image_np > -300)\n",
    "#fixed_image = sitk.GetImageFromArray(fixed_image_np)"
   ]
  },
  {
   "cell_type": "code",
   "execution_count": 4,
   "metadata": {},
   "outputs": [
    {
     "data": {
      "text/plain": [
       "<SimpleITK.SimpleITK.ElastixImageFilter; proxy of <Swig Object of type 'itk::simple::ElastixImageFilter::Self *' at 0x7fe7c0970f00> >"
      ]
     },
     "execution_count": 4,
     "metadata": {},
     "output_type": "execute_result"
    }
   ],
   "source": [
    "SimpleElastix = sitk.ElastixImageFilter()\n",
    "Transformix = sitk.TransformixImageFilter()\n",
    "SimpleElastix.SetFixedImage(fixed_image)\n"
   ]
  },
  {
   "cell_type": "code",
   "execution_count": 5,
   "metadata": {},
   "outputs": [],
   "source": [
    "image_names = ['Patient_0{}'.format(i) for i in range(2,9)]"
   ]
  },
  {
   "cell_type": "code",
   "execution_count": 6,
   "metadata": {},
   "outputs": [
    {
     "name": "stdout",
     "output_type": "stream",
     "text": [
      "['Patient_01', 'Patient_02', 'Patient_03', 'Patient_04', 'Patient_05', 'Patient_06', 'Patient_07', 'Patient_08', 'Patient_09', 'Patient_10', 'Patient_11', 'Patient_12', 'Patient_13', 'Patient_14', 'Patient_15', 'Patient_16', 'Patient_17', 'Patient_18', 'Patient_19', 'Patient_20', 'Patient_21', 'Patient_22', 'Patient_23', 'Patient_24', 'Patient_25', 'Patient_26', 'Patient_27', 'Patient_28', 'Patient_29', 'Patient_30', 'Patient_31', 'Patient_32', 'Patient_33', 'Patient_34', 'Patient_35', 'Patient_36', 'Patient_37', 'Patient_38', 'Patient_39', 'Patient_40']\n"
     ]
    }
   ],
   "source": [
    "series = [f for f in os.listdir(path) if os.path.isdir(os.path.join(path, f))]\n",
    "series.sort()\n",
    "print(series)"
   ]
  },
  {
   "cell_type": "code",
   "execution_count": 7,
   "metadata": {},
   "outputs": [
    {
     "name": "stdout",
     "output_type": "stream",
     "text": [
      "Patient_02\n",
      "Patient_03\n",
      "Patient_04\n",
      "Patient_05\n",
      "Patient_06\n",
      "Patient_07\n",
      "Patient_08\n",
      "Patient_09\n",
      "Patient_10\n",
      "Patient_11\n",
      "Patient_12\n",
      "Patient_13\n",
      "Patient_14\n",
      "Patient_15\n",
      "Patient_16\n",
      "Patient_17\n",
      "Patient_18\n",
      "Patient_19\n",
      "Patient_20\n",
      "Patient_21\n",
      "Patient_22\n",
      "Patient_23\n",
      "Patient_24\n",
      "Patient_25\n",
      "Patient_26\n",
      "Patient_27\n",
      "Patient_28\n",
      "Patient_29\n",
      "Patient_30\n",
      "Patient_31\n",
      "Patient_32\n",
      "Patient_33\n",
      "Patient_34\n",
      "Patient_35\n",
      "Patient_36\n",
      "Patient_37\n",
      "Patient_38\n",
      "Patient_39\n",
      "Patient_40\n"
     ]
    }
   ],
   "source": [
    "resultLabels = sitk.VectorOfImage()\n",
    "\n",
    "for image_name in series[1:]:\n",
    "    image = sitk.ReadImage(os.path.join(path,image_name,image_name+'.nii.gz'))\n",
    "    #image_np = sitk.GetArrayFromImage(image)\n",
    "    #print(image_np.shape)\n",
    "    #image_np = normalize(image_np, image_np > -300)\n",
    "    #image = sitk.GetImageFromArray(image_np)\n",
    "    \n",
    "    image_test = sitk.GetArrayFromImage(image)\n",
    "    #print(np.max(image_test))\n",
    "    label = sitk.ReadImage(os.path.join(path,image_name,'GT.nii.gz'))\n",
    "    \n",
    "    labels = [label == i for i in range(1,5)]\n",
    "    SimpleElastix.SetMovingImage(image)\n",
    "    SimpleElastix.Execute()\n",
    "    transformation_map = SimpleElastix.GetTransformParameterMap()\n",
    "    #print(transformation_map[0])\n",
    "    #transformation_map[0][\"ResampleInterpolator\"] = [\"FinalNearestNeighborInterpolator\"]\n",
    "    \n",
    "    tr_lbl = [sitk.GetArrayFromImage(sitk.Transformix(l, transformation_map) > 0.5) for l in labels]\n",
    "    tr_lbl = np.stack([np.full(shape=tr_lbl[0].shape, fill_value=0.5, dtype=np.float32),]+tr_lbl,axis=0)\n",
    "    tr_lbl = np.argmax(tr_lbl,axis=0)\n",
    "    tr_lbl = sitk.Cast(sitk.GetImageFromArray(tr_lbl),sitk.sitkUInt8)\n",
    "    resultLabels.push_back(tr_lbl)\n",
    "    print(image_name)\n",
    "\n",
    "fixedLabel = sitk.LabelVoting(resultLabels)"
   ]
  },
  {
   "cell_type": "code",
   "execution_count": 8,
   "metadata": {},
   "outputs": [],
   "source": [
    "sitk.WriteImage(fixedLabel, 'fixed_output_label.nii.gz', True) "
   ]
  },
  {
   "cell_type": "code",
   "execution_count": null,
   "metadata": {},
   "outputs": [],
   "source": []
  }
 ],
 "metadata": {
  "kernelspec": {
   "display_name": "Python 3.6",
   "language": "python",
   "name": "py36"
  },
  "language_info": {
   "codemirror_mode": {
    "name": "ipython",
    "version": 3
   },
   "file_extension": ".py",
   "mimetype": "text/x-python",
   "name": "python",
   "nbconvert_exporter": "python",
   "pygments_lexer": "ipython3",
   "version": "3.6.8"
  }
 },
 "nbformat": 4,
 "nbformat_minor": 2
}
