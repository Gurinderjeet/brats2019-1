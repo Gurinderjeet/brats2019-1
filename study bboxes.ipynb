{
 "cells": [
  {
   "cell_type": "code",
   "execution_count": 1,
   "metadata": {},
   "outputs": [],
   "source": [
    "import nibabel as nii\n",
    "import numpy as np\n",
    "import os\n",
    "import loader_helper"
   ]
  },
  {
   "cell_type": "code",
   "execution_count": 6,
   "metadata": {},
   "outputs": [
    {
     "name": "stdout",
     "output_type": "stream",
     "text": [
      "['Patient_01', 'Patient_02', 'Patient_03', 'Patient_04', 'Patient_05', 'Patient_06', 'Patient_07', 'Patient_08', 'Patient_09', 'Patient_10', 'Patient_11', 'Patient_12', 'Patient_13', 'Patient_14', 'Patient_15', 'Patient_16', 'Patient_17', 'Patient_18', 'Patient_19', 'Patient_20', 'Patient_21', 'Patient_22', 'Patient_23', 'Patient_24', 'Patient_25', 'Patient_26', 'Patient_27', 'Patient_28', 'Patient_29', 'Patient_30', 'Patient_31', 'Patient_32', 'Patient_33', 'Patient_34', 'Patient_35', 'Patient_36', 'Patient_37', 'Patient_38', 'Patient_39', 'Patient_40']\n"
     ]
    }
   ],
   "source": [
    "path = '/home/localadmin/segthor/data/train_resampled'\n",
    "\n",
    "series = [f for f in os.listdir(path) if os.path.isdir(os.path.join(path, f))]\n",
    "series.sort()\n",
    "print(series)"
   ]
  },
  {
   "cell_type": "code",
   "execution_count": 10,
   "metadata": {},
   "outputs": [
    {
     "name": "stdout",
     "output_type": "stream",
     "text": [
      "Patient_01 [136 128  52]\n",
      "Patient_02 [136 114  61]\n",
      "Patient_03 [134  93  45]\n",
      "Patient_04 [140 111  66]\n",
      "Patient_05 [135 101  82]\n",
      "Patient_06 [146 119  61]\n",
      "Patient_07 [132 114  61]\n",
      "Patient_08 [117 101  71]\n",
      "Patient_09 [137 120  66]\n",
      "Patient_10 [144 128  60]\n",
      "Patient_11 [146 136  53]\n",
      "Patient_12 [141 119  60]\n",
      "Patient_13 [143 119  67]\n",
      "Patient_14 [115  98  70]\n",
      "Patient_15 [154 130  78]\n",
      "Patient_16 [153 139  56]\n",
      "Patient_17 [103  94  71]\n",
      "Patient_18 [185 142  80]\n",
      "Patient_19 [135 110  70]\n",
      "Patient_20 [170 141  59]\n",
      "Patient_21 [142 115  59]\n",
      "Patient_22 [136 111  64]\n",
      "Patient_23 [131 129  63]\n",
      "Patient_24 [143 116  61]\n",
      "Patient_25 [148 104  62]\n",
      "Patient_26 [143 113  57]\n",
      "Patient_27 [144 117  59]\n",
      "Patient_28 [185 174  59]\n",
      "Patient_29 [145 144  45]\n",
      "Patient_30 [148 123  70]\n",
      "Patient_31 [129 103  58]\n",
      "Patient_32 [166 155  54]\n",
      "Patient_33 [131 129  56]\n",
      "Patient_34 [155 134  63]\n",
      "Patient_35 [144 125  53]\n",
      "Patient_36 [131 130  54]\n",
      "Patient_37 [148 121  57]\n",
      "Patient_38 [144 118  60]\n",
      "Patient_39 [158 115  54]\n",
      "Patient_40 [134 109  66]\n"
     ]
    }
   ],
   "source": [
    "for s in series:\n",
    "    label_path = os.path.join(path,s,'GT.nii.gz')\n",
    "    label = loader_helper.read_nii(label_path)\n",
    "    bbox = loader_helper.bbox3(label == 2)\n",
    "    print(s, bbox[1] - bbox[0])"
   ]
  },
  {
   "cell_type": "code",
   "execution_count": null,
   "metadata": {},
   "outputs": [],
   "source": []
  }
 ],
 "metadata": {
  "kernelspec": {
   "display_name": "Python 3.6",
   "language": "python",
   "name": "py36"
  },
  "language_info": {
   "codemirror_mode": {
    "name": "ipython",
    "version": 3
   },
   "file_extension": ".py",
   "mimetype": "text/x-python",
   "name": "python",
   "nbconvert_exporter": "python",
   "pygments_lexer": "ipython3",
   "version": "3.6.8"
  }
 },
 "nbformat": 4,
 "nbformat_minor": 2
}
