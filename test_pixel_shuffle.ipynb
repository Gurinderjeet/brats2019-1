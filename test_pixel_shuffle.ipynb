{
 "cells": [
  {
   "cell_type": "code",
   "execution_count": 1,
   "metadata": {},
   "outputs": [],
   "source": [
    "import torch\n",
    "import numpy as np\n",
    "import model\n",
    "import torch.nn as nn"
   ]
  },
  {
   "cell_type": "code",
   "execution_count": null,
   "metadata": {},
   "outputs": [],
   "source": []
  },
  {
   "cell_type": "code",
   "execution_count": 2,
   "metadata": {},
   "outputs": [],
   "source": [
    "\n",
    "class shuffle(nn.Module):\n",
    "    def __init__(self, ratio):\n",
    "        super(shuffle, self).__init__()\n",
    "        self.ratio = ratio\n",
    "\n",
    "    def forward(self, x):\n",
    "        batch_size, in_channels, d, h, w = x.shape\n",
    "        out_channels = in_channels // (self.ratio*self.ratio*self.ratio)\n",
    "        out = x.view(batch_size*out_channels, self.ratio,self.ratio,self.ratio,d,h,w)\n",
    "        out = out.permute(0,4,1,5,2,6,3)\n",
    "\n",
    "        return out.contiguous().view(batch_size, out_channels, d*self.ratio, h*self.ratio, w*self.ratio)\n",
    "\n",
    "\n",
    "class re_shuffle(nn.Module):\n",
    "    def __init__(self, ratio):\n",
    "        super(re_shuffle, self).__init__()\n",
    "        self.ratio = ratio\n",
    "\n",
    "    def forward(self, x):\n",
    "        batch_size, in_channels, d, h, w = x.shape\n",
    "\n",
    "        out_channels = in_channels * self.ratio * self.ratio * self.ratio\n",
    "        out = x.view(batch_size*in_channels, d//self.ratio, self.ratio, h//self.ratio, self.ratio, w//self.ratio, self.ratio)\n",
    "        out = out.permute(0,2,4,6,1,3,5)\n",
    "        out = out.contiguous().view(batch_size, out_channels, d//self.ratio, h//self.ratio, w//self.ratio)\n",
    "        return out"
   ]
  },
  {
   "cell_type": "code",
   "execution_count": null,
   "metadata": {},
   "outputs": [],
   "source": []
  },
  {
   "cell_type": "code",
   "execution_count": null,
   "metadata": {},
   "outputs": [],
   "source": []
  },
  {
   "cell_type": "code",
   "execution_count": 3,
   "metadata": {},
   "outputs": [
    {
     "name": "stdout",
     "output_type": "stream",
     "text": [
      "(2, 16, 4, 4, 4)\n"
     ]
    }
   ],
   "source": [
    "data = np.random.rand(2,16,4,4,4).astype(np.float32)\n",
    "print(data.shape)"
   ]
  },
  {
   "cell_type": "code",
   "execution_count": 4,
   "metadata": {},
   "outputs": [],
   "source": [
    "donwsample = model.re_shuffle(ratio=2)\n",
    "upsample = model.shuffle(ratio=2)"
   ]
  },
  {
   "cell_type": "code",
   "execution_count": null,
   "metadata": {},
   "outputs": [],
   "source": []
  },
  {
   "cell_type": "code",
   "execution_count": null,
   "metadata": {},
   "outputs": [],
   "source": []
  },
  {
   "cell_type": "code",
   "execution_count": 5,
   "metadata": {},
   "outputs": [],
   "source": [
    "ds = donwsample(torch.Tensor(data))\n",
    "up = upsample(ds)"
   ]
  },
  {
   "cell_type": "code",
   "execution_count": 6,
   "metadata": {},
   "outputs": [
    {
     "name": "stdout",
     "output_type": "stream",
     "text": [
      "torch.Size([2, 16, 4, 4, 4])\n",
      "torch.Size([2, 128, 2, 2, 2])\n"
     ]
    }
   ],
   "source": [
    "print(up.shape)\n",
    "print(ds.shape)"
   ]
  },
  {
   "cell_type": "code",
   "execution_count": null,
   "metadata": {},
   "outputs": [],
   "source": []
  },
  {
   "cell_type": "code",
   "execution_count": null,
   "metadata": {},
   "outputs": [],
   "source": []
  },
  {
   "cell_type": "code",
   "execution_count": 7,
   "metadata": {},
   "outputs": [],
   "source": [
    "ds_np = ds.numpy()\n",
    "up_np = up.numpy()"
   ]
  },
  {
   "cell_type": "code",
   "execution_count": 8,
   "metadata": {},
   "outputs": [
    {
     "name": "stdout",
     "output_type": "stream",
     "text": [
      "0\n"
     ]
    }
   ],
   "source": [
    "print(np.sum(data!=up_np))"
   ]
  },
  {
   "cell_type": "code",
   "execution_count": 9,
   "metadata": {},
   "outputs": [
    {
     "name": "stdout",
     "output_type": "stream",
     "text": [
      "2048\n"
     ]
    }
   ],
   "source": [
    "print(np.prod(data.shape))"
   ]
  },
  {
   "cell_type": "code",
   "execution_count": null,
   "metadata": {},
   "outputs": [],
   "source": []
  }
 ],
 "metadata": {
  "kernelspec": {
   "display_name": "Python 3.6",
   "language": "python",
   "name": "py36"
  },
  "language_info": {
   "codemirror_mode": {
    "name": "ipython",
    "version": 3
   },
   "file_extension": ".py",
   "mimetype": "text/x-python",
   "name": "python",
   "nbconvert_exporter": "python",
   "pygments_lexer": "ipython3",
   "version": "3.6.8"
  }
 },
 "nbformat": 4,
 "nbformat_minor": 2
}
