{
 "cells": [
  {
   "cell_type": "code",
   "execution_count": 1,
   "metadata": {},
   "outputs": [],
   "source": [
    "import nibabel as nii\n",
    "import numpy as np\n",
    "import os\n",
    "import loader_helper"
   ]
  },
  {
   "cell_type": "code",
   "execution_count": 6,
   "metadata": {},
   "outputs": [
    {
     "name": "stdout",
     "output_type": "stream",
     "text": [
      "['Patient_01', 'Patient_02', 'Patient_03', 'Patient_04', 'Patient_05', 'Patient_06', 'Patient_07', 'Patient_08', 'Patient_09', 'Patient_10', 'Patient_11', 'Patient_12', 'Patient_13', 'Patient_14', 'Patient_15', 'Patient_16', 'Patient_17', 'Patient_18', 'Patient_19', 'Patient_20', 'Patient_21', 'Patient_22', 'Patient_23', 'Patient_24', 'Patient_25', 'Patient_26', 'Patient_27', 'Patient_28', 'Patient_29', 'Patient_30', 'Patient_31', 'Patient_32', 'Patient_33', 'Patient_34', 'Patient_35', 'Patient_36', 'Patient_37', 'Patient_38', 'Patient_39', 'Patient_40']\n"
     ]
    }
   ],
   "source": [
    "path = '/home/localadmin/segthor/data/train_resampled'\n",
    "\n",
    "series = [f for f in os.listdir(path) if os.path.isdir(os.path.join(path, f))]\n",
    "series.sort()\n",
    "print(series)"
   ]
  },
  {
   "cell_type": "code",
   "execution_count": null,
   "metadata": {},
   "outputs": [
    {
     "name": "stdout",
     "output_type": "stream",
     "text": [
      "Patient_01 [[189 138  67]\n",
      " [325 301 241]]\n",
      "Patient_02 [[199 141 135]\n",
      " [335 282 338]]\n",
      "Patient_03 [[195 196  10]\n",
      " [329 313 193]]\n",
      "Patient_04 [[198 163  20]\n",
      " [350 330 217]]\n",
      "Patient_05 [[203 192  59]\n",
      " [340 328 247]]\n",
      "Patient_06 [[208 144  92]\n",
      " [359 293 276]]\n",
      "Patient_07 [[193 140  35]\n",
      " [325 285 219]]\n",
      "Patient_08 [[197 197  48]\n",
      " [314 325 224]]\n",
      "Patient_09 [[200 150  11]\n",
      " [337 298 194]]\n",
      "Patient_10 [[191 105  17]\n",
      " [336 272 184]]\n",
      "Patient_11 [[274 189  80]\n",
      " [420 354 248]]\n",
      "Patient_12 [[214 152  20]\n",
      " [356 315 202]]\n",
      "Patient_13 [[210 136  16]\n",
      " [353 291 192]]\n",
      "Patient_14 [[222 185  28]\n",
      " [347 321 199]]\n",
      "Patient_15 [[179 115  21]\n",
      " [333 300 209]]\n",
      "Patient_16 [[190 127  40]\n",
      " [343 300 216]]\n",
      "Patient_17 [[210 177  36]\n",
      " [313 292 233]]\n",
      "Patient_18 [[183 157  43]\n",
      " [368 327 251]]\n",
      "Patient_19 [[177 176  35]\n",
      " [312 311 231]]\n",
      "Patient_20 [[295 227  36]\n",
      " [483 393 206]]\n",
      "Patient_21 [[194 152  31]\n",
      " [341 298 214]]\n",
      "Patient_22 [[200 136  92]\n",
      " [341 270 270]]\n",
      "Patient_23 [[196 141  30]\n",
      " [327 302 203]]\n",
      "Patient_24 [[211 125  70]\n",
      " [354 287 234]]\n",
      "Patient_25 [[190 171  23]\n",
      " [343 307 201]]\n",
      "Patient_26 [[203 128  53]\n",
      " [346 271 237]]\n",
      "Patient_27 [[205 170  31]\n",
      " [354 313 214]]\n"
     ]
    }
   ],
   "source": [
    "for s in series:\n",
    "    label_path = os.path.join(path,s,'GT.nii.gz')\n",
    "    label = loader_helper.read_nii(label_path)\n",
    "    bbox = loader_helper.bbox3(label)\n",
    "    print(s, bbox[1] - bbox[0])"
   ]
  },
  {
   "cell_type": "code",
   "execution_count": null,
   "metadata": {},
   "outputs": [],
   "source": []
  }
 ],
 "metadata": {
  "kernelspec": {
   "display_name": "Python 3.6",
   "language": "python",
   "name": "py36"
  },
  "language_info": {
   "codemirror_mode": {
    "name": "ipython",
    "version": 3
   },
   "file_extension": ".py",
   "mimetype": "text/x-python",
   "name": "python",
   "nbconvert_exporter": "python",
   "pygments_lexer": "ipython3",
   "version": "3.6.8"
  }
 },
 "nbformat": 4,
 "nbformat_minor": 2
}
