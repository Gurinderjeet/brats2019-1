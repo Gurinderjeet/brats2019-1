{
 "cells": [
  {
   "cell_type": "code",
   "execution_count": 1,
   "metadata": {},
   "outputs": [],
   "source": [
    "import nibabel as nii\n",
    "import numpy as np\n",
    "import os\n",
    "import tqdm\n",
    "import dataloader"
   ]
  },
  {
   "cell_type": "code",
   "execution_count": 2,
   "metadata": {},
   "outputs": [],
   "source": [
    "train_path = '/home/localadmin/segthor/data/train_resampled2_2_25'\n",
    "output_path = '/home/localadmin/segthor/data/train_resampled2_2_25_normalized'"
   ]
  },
  {
   "cell_type": "code",
   "execution_count": 3,
   "metadata": {},
   "outputs": [
    {
     "name": "stdout",
     "output_type": "stream",
     "text": [
      "['Patient_01', 'Patient_02', 'Patient_03', 'Patient_04', 'Patient_05', 'Patient_06', 'Patient_07', 'Patient_08', 'Patient_09', 'Patient_10', 'Patient_11', 'Patient_12', 'Patient_13', 'Patient_14', 'Patient_15', 'Patient_16', 'Patient_17', 'Patient_18', 'Patient_19', 'Patient_20', 'Patient_21', 'Patient_22', 'Patient_23', 'Patient_24', 'Patient_25', 'Patient_26', 'Patient_27', 'Patient_28', 'Patient_29', 'Patient_30', 'Patient_31', 'Patient_32', 'Patient_33', 'Patient_34', 'Patient_35', 'Patient_36', 'Patient_37', 'Patient_38', 'Patient_39', 'Patient_40']\n"
     ]
    }
   ],
   "source": [
    "file_list = [f for f in os.listdir(train_path) if os.path.isdir(os.path.join(train_path, f))]\n",
    "file_list.sort()\n",
    "print(file_list)"
   ]
  },
  {
   "cell_type": "code",
   "execution_count": 4,
   "metadata": {},
   "outputs": [],
   "source": [
    "def read_nii(file_path):\n",
    "    return nii.load(file_path)"
   ]
  },
  {
   "cell_type": "code",
   "execution_count": 5,
   "metadata": {},
   "outputs": [
    {
     "name": "stdout",
     "output_type": "stream",
     "text": [
      "-1.0616366 9.622231\n",
      "-1.5803756 59.555138\n",
      "-3.188646 61.66294\n",
      "-1.0408931 12.540873\n",
      "-2.366211 12.42199\n",
      "-1.8591769 10.327719\n",
      "-0.83959556 9.465805\n",
      "-2.6706345 10.937034\n",
      "-1.6428493 10.713821\n",
      "-1.9959743 9.519646\n",
      "-0.99212766 24.174704\n",
      "-0.96947885 9.278327\n",
      "-1.9385481 9.558151\n",
      "-1.3928485 6.902961\n",
      "-1.1179273 29.77521\n",
      "-1.3880807 22.323153\n",
      "-0.9625731 39.65515\n",
      "-1.3248732 33.41682\n",
      "-2.5918767 73.538666\n",
      "-0.881744 11.252128\n",
      "-1.2246037 21.84069\n",
      "-0.89060575 24.57494\n",
      "-1.003222 27.167908\n",
      "-1.2759085 19.856249\n",
      "-2.305518 28.997458\n",
      "-1.6495954 9.336855\n",
      "-0.96746385 10.821665\n",
      "-1.4965836 9.767277\n",
      "-1.1786313 5.370277\n",
      "-1.4580182 29.480095\n",
      "-1.3962557 24.704851\n",
      "-1.0930172 26.783098\n",
      "-1.1026055 9.082065\n",
      "-1.5709909 26.403393\n",
      "-1.7597437 13.412536\n",
      "-1.3448228 9.691697\n",
      "-1.0333562 24.048018\n",
      "-1.7416 10.196866\n",
      "-1.3756446 9.492644\n",
      "-1.3662972 50.111473\n"
     ]
    }
   ],
   "source": [
    "for i,f in enumerate(file_list):\n",
    "    filename = os.path.join(train_path,f,f+'.nii.gz')\n",
    "    image=np.array(read_nii(filename).get_data()).astype(np.float32)\n",
    "    \n",
    "    image_norm = dataloader.normalize(image, image > -500)\n",
    "    np.save(os.path.join(output_path,f+'.npy'),image_norm)"
   ]
  },
  {
   "cell_type": "code",
   "execution_count": null,
   "metadata": {},
   "outputs": [],
   "source": []
  }
 ],
 "metadata": {
  "kernelspec": {
   "display_name": "Python 3.6",
   "language": "python",
   "name": "py36"
  },
  "language_info": {
   "codemirror_mode": {
    "name": "ipython",
    "version": 3
   },
   "file_extension": ".py",
   "mimetype": "text/x-python",
   "name": "python",
   "nbconvert_exporter": "python",
   "pygments_lexer": "ipython3",
   "version": "3.6.8"
  }
 },
 "nbformat": 4,
 "nbformat_minor": 2
}
