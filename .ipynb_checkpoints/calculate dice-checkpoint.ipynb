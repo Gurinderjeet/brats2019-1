{
 "cells": [
  {
   "cell_type": "code",
   "execution_count": 1,
   "metadata": {},
   "outputs": [],
   "source": [
    "import nibabel as nii\n",
    "import numpy as np\n",
    "import os\n",
    "import metrics"
   ]
  },
  {
   "cell_type": "code",
   "execution_count": 38,
   "metadata": {},
   "outputs": [],
   "source": [
    "path1 = '/home/localadmin/segthor/data/train_resampled2_2_25/Patient_10/GT.nii.gz'\n",
    "path2 = '/home/localadmin/segthor/data/output/Patient_10_pred.nii.gz'\n"
   ]
  },
  {
   "cell_type": "code",
   "execution_count": 39,
   "metadata": {},
   "outputs": [],
   "source": [
    "\n",
    "def read_nii(filename):\n",
    "    image = nii.load(filename)\n",
    "    return np.array(image.get_data())\n",
    "\n",
    "\n",
    "def read_nii_header(filename):\n",
    "    return nii.load(filename)"
   ]
  },
  {
   "cell_type": "code",
   "execution_count": 40,
   "metadata": {},
   "outputs": [],
   "source": [
    "label1 = read_nii(path1)\n",
    "label2 = read_nii(path2)"
   ]
  },
  {
   "cell_type": "code",
   "execution_count": 41,
   "metadata": {},
   "outputs": [
    {
     "name": "stdout",
     "output_type": "stream",
     "text": [
      "0 0.9926195423551801\n",
      "1 0.821098901098901\n",
      "2 0.0\n",
      "3 0.0\n",
      "4 0.0\n"
     ]
    }
   ],
   "source": [
    "for i in range(5):\n",
    "    l1 = (label1 == i).astype(np.float)\n",
    "    l2 = (label2 == i).astype(np.float)\n",
    "\n",
    "    print(i, 2.0*(l1*l2).sum() / (l1+l2).sum())\n",
    "    "
   ]
  },
  {
   "cell_type": "code",
   "execution_count": null,
   "metadata": {},
   "outputs": [],
   "source": []
  },
  {
   "cell_type": "code",
   "execution_count": null,
   "metadata": {},
   "outputs": [],
   "source": []
  }
 ],
 "metadata": {
  "kernelspec": {
   "display_name": "Python 3.6",
   "language": "python",
   "name": "py36"
  },
  "language_info": {
   "codemirror_mode": {
    "name": "ipython",
    "version": 3
   },
   "file_extension": ".py",
   "mimetype": "text/x-python",
   "name": "python",
   "nbconvert_exporter": "python",
   "pygments_lexer": "ipython3",
   "version": "3.6.8"
  }
 },
 "nbformat": 4,
 "nbformat_minor": 2
}
