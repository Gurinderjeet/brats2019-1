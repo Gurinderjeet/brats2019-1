{
 "cells": [
  {
   "cell_type": "code",
   "execution_count": 1,
   "metadata": {},
   "outputs": [],
   "source": [
    "import nibabel as nii\n",
    "import numpy as np\n",
    "import os\n",
    "import tqdm\n",
    "\n",
    "from skimage import data\n",
    "from skimage import transform as tf\n",
    "import matplotlib.pyplot as plt"
   ]
  },
  {
   "cell_type": "code",
   "execution_count": 28,
   "metadata": {},
   "outputs": [],
   "source": [
    "train_path = '/home/localadmin/segthor/data/train_resampled'\n",
    "output_path = '/home/localadmin/segthor/data/train_resampled2_2_25'"
   ]
  },
  {
   "cell_type": "code",
   "execution_count": 29,
   "metadata": {},
   "outputs": [
    {
     "name": "stdout",
     "output_type": "stream",
     "text": [
      "['Patient_01', 'Patient_02', 'Patient_03', 'Patient_04', 'Patient_05', 'Patient_06', 'Patient_07', 'Patient_08', 'Patient_09', 'Patient_10', 'Patient_11', 'Patient_12', 'Patient_13', 'Patient_14', 'Patient_15', 'Patient_16', 'Patient_17', 'Patient_18', 'Patient_19', 'Patient_20', 'Patient_21', 'Patient_22', 'Patient_23', 'Patient_24', 'Patient_25', 'Patient_26', 'Patient_27', 'Patient_28', 'Patient_29', 'Patient_30', 'Patient_31', 'Patient_32', 'Patient_33', 'Patient_34', 'Patient_35', 'Patient_36', 'Patient_37', 'Patient_38', 'Patient_39', 'Patient_40']\n"
     ]
    }
   ],
   "source": [
    "file_list = [f for f in os.listdir(train_path) if os.path.isdir(os.path.join(train_path, f))]\n",
    "file_list.sort()\n",
    "print(file_list)"
   ]
  },
  {
   "cell_type": "code",
   "execution_count": 30,
   "metadata": {},
   "outputs": [],
   "source": [
    "def read_nii(file_path):\n",
    "    return nii.load(file_path)"
   ]
  },
  {
   "cell_type": "code",
   "execution_count": null,
   "metadata": {},
   "outputs": [],
   "source": []
  },
  {
   "cell_type": "code",
   "execution_count": 31,
   "metadata": {},
   "outputs": [
    {
     "name": "stdout",
     "output_type": "stream",
     "text": [
      "Patient_01\t [500. 500. 305.] \t [1.  1.  1.5] \t [500.  500.  457.5]\n",
      "Patient_02\t [500. 500. 410.] \t [1.  1.  1.5] \t [500. 500. 615.]\n",
      "Patient_03\t [500. 500. 245.] \t [1.  1.  1.5] \t [500.  500.  367.5]\n",
      "Patient_04\t [500. 500. 263.] \t [1.  1.  1.5] \t [500.  500.  394.5]\n",
      "Patient_05\t [500. 500. 379.] \t [1.  1.  1.5] \t [500.  500.  568.5]\n",
      "Patient_06\t [500. 500. 332.] \t [1.  1.  1.5] \t [500. 500. 498.]\n",
      "Patient_07\t [500. 500. 239.] \t [1.  1.  1.5] \t [500.  500.  358.5]\n",
      "Patient_08\t [500. 500. 285.] \t [1.  1.  1.5] \t [500.  500.  427.5]\n",
      "Patient_09\t [500. 500. 257.] \t [1.  1.  1.5] \t [500.  500.  385.5]\n",
      "Patient_10\t [500. 500. 217.] \t [1.  1.  1.5] \t [500.  500.  325.5]\n",
      "Patient_11\t [650. 650. 300.] \t [1.  1.  1.5] \t [650. 650. 450.]\n",
      "Patient_12\t [500. 500. 228.] \t [1.  1.  1.5] \t [500. 500. 342.]\n",
      "Patient_13\t [500. 500. 304.] \t [1.  1.  1.5] \t [500. 500. 456.]\n",
      "Patient_14\t [500. 500. 270.] \t [1.  1.  1.5] \t [500. 500. 405.]\n",
      "Patient_15\t [459. 459. 250.] \t [1.  1.  1.5] \t [459. 459. 375.]\n",
      "Patient_16\t [500. 500. 277.] \t [1.  1.  1.5] \t [500.  500.  415.5]\n",
      "Patient_17\t [500. 500. 277.] \t [1.  1.  1.5] \t [500.  500.  415.5]\n",
      "Patient_18\t [500. 500. 305.] \t [1.  1.  1.5] \t [500.  500.  457.5]\n",
      "Patient_19\t [500. 500. 317.] \t [1.  1.  1.5] \t [500.  500.  475.5]\n",
      "Patient_20\t [700. 700. 343.] \t [1.  1.  1.5] \t [700.  700.  514.5]\n",
      "Patient_21\t [500. 500. 263.] \t [1.  1.  1.5] \t [500.  500.  394.5]\n",
      "Patient_22\t [500. 500. 302.] \t [1.  1.  1.5] \t [500. 500. 453.]\n",
      "Patient_23\t [500. 500. 255.] \t [1.  1.  1.5] \t [500.  500.  382.5]\n",
      "Patient_24\t [500. 500. 280.] \t [1.  1.  1.5] \t [500. 500. 420.]\n",
      "Patient_25\t [500. 500. 250.] \t [1.  1.  1.5] \t [500. 500. 375.]\n",
      "Patient_26\t [500. 500. 329.] \t [1.  1.  1.5] \t [500.  500.  493.5]\n",
      "Patient_27\t [500. 500. 284.] \t [1.  1.  1.5] \t [500. 500. 426.]\n",
      "Patient_28\t [500. 500. 298.] \t [1.  1.  1.5] \t [500. 500. 447.]\n",
      "Patient_29\t [500. 500. 288.] \t [1.  1.  1.5] \t [500. 500. 432.]\n",
      "Patient_30\t [500. 500. 285.] \t [1.  1.  1.5] \t [500.  500.  427.5]\n",
      "Patient_31\t [500. 500. 247.] \t [1.  1.  1.5] \t [500.  500.  370.5]\n",
      "Patient_32\t [500. 500. 262.] \t [1.  1.  1.5] \t [500. 500. 393.]\n",
      "Patient_33\t [500. 500. 351.] \t [1.  1.  1.5] \t [500.  500.  526.5]\n",
      "Patient_34\t [500. 500. 320.] \t [1.  1.  1.5] \t [500. 500. 480.]\n",
      "Patient_35\t [700. 700. 241.] \t [1.  1.  1.5] \t [700.  700.  361.5]\n",
      "Patient_36\t [500. 500. 251.] \t [1.  1.  1.5] \t [500.  500.  376.5]\n",
      "Patient_37\t [500. 500. 293.] \t [1.  1.  1.5] \t [500.  500.  439.5]\n",
      "Patient_38\t [500. 500. 265.] \t [1.  1.  1.5] \t [500.  500.  397.5]\n",
      "Patient_39\t [500. 500. 304.] \t [1.  1.  1.5] \t [500. 500. 456.]\n",
      "Patient_40\t [500. 500. 338.] \t [1.  1.  1.5] \t [500. 500. 507.]\n"
     ]
    }
   ],
   "source": [
    "sizes = np.zeros(shape=(3,len(file_list)),dtype=float)\n",
    "shapes = np.zeros(shape=(3,len(file_list)),dtype=float)\n",
    "scales = np.zeros(shape=(3,len(file_list)),dtype=float)\n",
    "\n",
    "for i,f in enumerate(file_list):\n",
    "    filename = os.path.join(train_path,f,f+'.nii.gz')\n",
    "    image=read_nii(filename)\n",
    "    shapes[:,i]=image.header['dim'][1:4]\n",
    "    scales[:,i]=image.header['pixdim'][1:4]\n",
    "    sizes[:,i]=image.header['dim'][1:4] * image.header['pixdim'][1:4]\n",
    "    print(f + '\\t', shapes[:,i],'\\t',scales[:,i],'\\t',sizes[:,i])"
   ]
  },
  {
   "cell_type": "code",
   "execution_count": 32,
   "metadata": {},
   "outputs": [
    {
     "name": "stdout",
     "output_type": "stream",
     "text": [
      "[700. 700. 615.]\n",
      "[700. 700. 410.]\n",
      "[459. 459. 217.]\n"
     ]
    }
   ],
   "source": [
    "print(np.max(sizes, axis =1))\n",
    "print(np.max(shapes, axis =1))\n",
    "print(np.min(shapes, axis =1))"
   ]
  },
  {
   "cell_type": "code",
   "execution_count": null,
   "metadata": {},
   "outputs": [],
   "source": []
  },
  {
   "cell_type": "code",
   "execution_count": 7,
   "metadata": {},
   "outputs": [],
   "source": [
    "\n",
    "from scipy import ndimage\n",
    "\n",
    "def m(coords, new_scale, old_scale, translate):\n",
    "    return coords* new_scale / old_scale + translate\n",
    "\n",
    "def warp(data, new_scale, old_scale, translation, output_shape, cval, order):\n",
    "    coordinates = np.zeros(shape=(3,)+output_shape,dtype=float)\n",
    "    for i in range(output_shape[0]):\n",
    "        for j in range(output_shape[1]):\n",
    "            for k in range(output_shape[2]):\n",
    "                coordinates[:,i,j,k]=m(np.array([i,j,k]), new_scale, old_scale, translation)\n",
    "    return ndimage.map_coordinates(data, coordinates, order=order, cval=cval, mode='constant')"
   ]
  },
  {
   "cell_type": "code",
   "execution_count": 8,
   "metadata": {},
   "outputs": [],
   "source": [
    "def closest_to_k(n,k=8):\n",
    "    if n % k == 0:\n",
    "        return n\n",
    "    else:\n",
    "        return ((n // k) + 1)*k"
   ]
  },
  {
   "cell_type": "code",
   "execution_count": 11,
   "metadata": {},
   "outputs": [],
   "source": [
    "#new_shape = (512,512,512)\n",
    "#new_size = np.array([180.0,180.0,160.0])\n",
    "new_scale = np.array([2.0,2.0,2.5])#new_size / new_shape\n",
    "#new_size = new_scale * new_shape\n",
    "\n",
    "affine = np.diag(np.append(new_scale,1))"
   ]
  },
  {
   "cell_type": "code",
   "execution_count": 12,
   "metadata": {},
   "outputs": [],
   "source": [
    "from scipy.ndimage import zoom"
   ]
  },
  {
   "cell_type": "code",
   "execution_count": 13,
   "metadata": {},
   "outputs": [
    {
     "name": "stdout",
     "output_type": "stream",
     "text": [
      "Patient_01 (256, 256, 184)\n"
     ]
    },
    {
     "name": "stderr",
     "output_type": "stream",
     "text": [
      "/home/localadmin/anaconda2/envs/py36/lib/python3.6/site-packages/scipy/ndimage/interpolation.py:583: UserWarning: From scipy 0.13.0, the output shape of zoom() is calculated with round() instead of int() - for these inputs the size of the returned array has changed.\n",
      "  \"the returned array has changed.\", UserWarning)\n"
     ]
    },
    {
     "name": "stdout",
     "output_type": "stream",
     "text": [
      "Patient_02 (256, 256, 248)\n",
      "Patient_03 (256, 256, 152)\n",
      "Patient_04 (256, 256, 160)\n",
      "Patient_05 (256, 256, 232)\n",
      "Patient_06 (256, 256, 200)\n",
      "Patient_07 (256, 256, 144)\n",
      "Patient_08 (256, 256, 176)\n",
      "Patient_09 (256, 256, 160)\n",
      "Patient_10 (256, 256, 136)\n",
      "Patient_11 (328, 328, 184)\n",
      "Patient_12 (256, 256, 144)\n",
      "Patient_13 (256, 256, 184)\n",
      "Patient_14 (256, 256, 168)\n",
      "Patient_15 (232, 232, 152)\n",
      "Patient_16 (256, 256, 168)\n",
      "Patient_17 (256, 256, 168)\n",
      "Patient_18 (256, 256, 184)\n",
      "Patient_19 (256, 256, 192)\n",
      "Patient_20 (352, 352, 208)\n",
      "Patient_21 (256, 256, 160)\n",
      "Patient_22 (256, 256, 184)\n",
      "Patient_23 (256, 256, 160)\n",
      "Patient_24 (256, 256, 168)\n",
      "Patient_25 (256, 256, 152)\n",
      "Patient_26 (256, 256, 200)\n",
      "Patient_27 (256, 256, 176)\n",
      "Patient_28 (256, 256, 184)\n",
      "Patient_29 (256, 256, 176)\n",
      "Patient_30 (256, 256, 176)\n",
      "Patient_31 (256, 256, 152)\n",
      "Patient_32 (256, 256, 160)\n",
      "Patient_33 (256, 256, 216)\n",
      "Patient_34 (256, 256, 192)\n",
      "Patient_35 (352, 352, 152)\n",
      "Patient_36 (256, 256, 152)\n",
      "Patient_37 (256, 256, 176)\n",
      "Patient_38 (256, 256, 160)\n",
      "Patient_39 (256, 256, 184)\n",
      "Patient_40 (256, 256, 208)\n"
     ]
    }
   ],
   "source": [
    "file_list.sort()\n",
    "for i,f in enumerate(file_list):\n",
    "    filename = os.path.join(train_path, f,f+'.nii.gz')\n",
    "    label_name = os.path.join(train_path, f,'GT.nii.gz')\n",
    "    output_filename = os.path.join(output_path, f,f+'.nii.gz')\n",
    "    output_label_name = os.path.join(output_path, f,'GT.nii.gz')\n",
    "        \n",
    "    image_handle = read_nii(filename)\n",
    "    label_handle = read_nii(label_name)\n",
    "    image_data = image_handle.get_data().astype(np.float32)\n",
    "    label_data = label_handle.get_data().astype(np.int32)\n",
    "    label_oh = np.eye(5)[label_data].astype(np.float32)\n",
    "        \n",
    "    shape = image_handle.header['dim'][1:4]\n",
    "    scale = image_handle.header['pixdim'][1:4]\n",
    "    size = image_handle.header['dim'][1:4] * image_handle.header['pixdim'][1:4]\n",
    "        \n",
    "    scale_factor = scale / new_scale\n",
    "        \n",
    "    new_shape = np.ceil(shape * scale_factor).astype(np.int32)\n",
    "    new_shape = tuple(closest_to_k(i,8) for i in new_shape)\n",
    "    new_size = new_scale * new_shape\n",
    "        \n",
    "    translation = np.array([(size[0] - new_size[0]) / 2, (size[1] - new_size[1]) / 2, (size[2] - new_size[2])/2])\n",
    "    translation /= scale\n",
    "        \n",
    "    order = 3\n",
    "        \n",
    "    new_data = zoom(image_data, scale_factor, order=3, mode='constant', cval=-1024)\n",
    "    new_label = zoom(label_oh, tuple(scale_factor)+(1,), order=1, mode='constant', cval=0)\n",
    "    #print(new_label.shape)\n",
    "    #new_data = warp(image_data, new_scale, scale, translation, new_shape, image_data.min(), order)\n",
    "    new_image = nii.Nifti1Image(new_data.astype(np.float32), affine)\n",
    "    new_label = nii.Nifti1Image(np.argmax(new_label,axis=-1).astype(np.float32), affine)\n",
    "    os.mkdir(os.path.join(output_path, f))\n",
    "    nii.save(new_image,output_filename)\n",
    "    nii.save(new_label,output_label_name)\n",
    "        \n",
    "    print(f, str(new_shape))"
   ]
  },
  {
   "cell_type": "code",
   "execution_count": null,
   "metadata": {},
   "outputs": [],
   "source": []
  }
 ],
 "metadata": {
  "kernelspec": {
   "display_name": "Python 3.6",
   "language": "python",
   "name": "py36"
  },
  "language_info": {
   "codemirror_mode": {
    "name": "ipython",
    "version": 3
   },
   "file_extension": ".py",
   "mimetype": "text/x-python",
   "name": "python",
   "nbconvert_exporter": "python",
   "pygments_lexer": "ipython3",
   "version": "3.6.8"
  }
 },
 "nbformat": 4,
 "nbformat_minor": 2
}
