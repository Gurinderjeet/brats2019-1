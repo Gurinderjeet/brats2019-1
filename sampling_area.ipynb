{
 "cells": [
  {
   "cell_type": "code",
   "execution_count": 10,
   "metadata": {},
   "outputs": [],
   "source": [
    "import numpy as np\n",
    "import nibabel\n",
    "import os\n",
    "import loader_helper"
   ]
  },
  {
   "cell_type": "code",
   "execution_count": 2,
   "metadata": {},
   "outputs": [],
   "source": [
    "path = '/home/localadmin/segthor/data/train_resampled'"
   ]
  },
  {
   "cell_type": "code",
   "execution_count": 3,
   "metadata": {},
   "outputs": [
    {
     "name": "stdout",
     "output_type": "stream",
     "text": [
      "['Patient_24', 'Patient_15', 'Patient_32', 'Patient_19', 'Patient_29', 'Patient_07', 'Patient_28', 'Patient_14', 'Patient_13', 'Patient_26', 'Patient_25', 'Patient_21', 'Patient_30', 'Patient_10', 'Patient_38', 'Patient_03', 'Patient_34', 'Patient_16', 'Patient_33', 'Patient_09', 'Patient_02', 'Patient_35', 'Patient_31', 'Patient_40', 'Patient_11', 'Patient_01', 'Patient_12', 'Patient_18', 'Patient_17', 'Patient_37', 'Patient_23', 'Patient_22', 'Patient_39', 'Patient_27', 'Patient_04', 'Patient_36', 'Patient_06', 'Patient_20', 'Patient_08', 'Patient_05']\n"
     ]
    }
   ],
   "source": [
    "series = os.listdir(path)\n",
    "print(series)"
   ]
  },
  {
   "cell_type": "code",
   "execution_count": 11,
   "metadata": {},
   "outputs": [
    {
     "name": "stdout",
     "output_type": "stream",
     "text": [
      "Patient_24 [[185 121  94]\n",
      " [362 305 218]]\n",
      "Patient_15 [[156 123  62]\n",
      " [337 308 182]]\n",
      "Patient_32 [[161 161  83]\n",
      " [336 343 200]]\n",
      "Patient_19 [[145 132  76]\n",
      " [321 340 187]]\n",
      "Patient_29 [[177 204  98]\n",
      " [342 385 225]]\n",
      "Patient_07 [[172 154  72]\n",
      " [346 318 198]]\n",
      "Patient_28 [[184 154 133]\n",
      " [350 339 256]]\n",
      "Patient_14 [[185 162  78]\n",
      " [355 347 187]]\n",
      "Patient_13 [[174 156  53]\n",
      " [342 319 176]]\n",
      "Patient_26 [[172 138  97]\n",
      " [342 305 210]]\n",
      "Patient_25 [[173 165  56]\n",
      " [349 339 182]]\n",
      "Patient_21 [[164 125  69]\n",
      " [336 325 186]]\n",
      "Patient_30 [[177 200 101]\n",
      " [340 395 217]]\n",
      "Patient_10 [[172 141  43]\n",
      " [339 297 164]]\n",
      "Patient_38 [[167 150  78]\n",
      " [349 336 197]]\n",
      "Patient_03 [[165 178  43]\n",
      " [342 353 162]]\n",
      "Patient_34 [[171 134 108]\n",
      " [358 317 227]]\n",
      "Patient_16 [[169 159  78]\n",
      " [333 330 205]]\n",
      "Patient_33 [[173 137  56]\n",
      " [341 306 177]]\n",
      "Patient_09 [[170 147  41]\n",
      " [338 330 168]]\n",
      "Patient_02 [[160 144 194]\n",
      " [336 316 312]]\n",
      "Patient_35 [[262 275  35]\n",
      " [427 435 158]]\n",
      "Patient_31 [[166 198  48]\n",
      " [339 354 175]]\n",
      "Patient_40 [[168 169 104]\n",
      " [343 338 228]]\n",
      "Patient_11 [[233 208 114]\n",
      " [412 389 240]]\n",
      "Patient_01 [[164 159  95]\n",
      " [331 330 223]]\n",
      "Patient_12 [[178 168  52]\n",
      " [346 333 173]]\n",
      "Patient_18 [[153 178 106]\n",
      " [334 361 237]]\n",
      "Patient_17 [[178 163  83]\n",
      " [339 327 205]]\n",
      "Patient_37 [[165 185 113]\n",
      " [340 347 236]]\n",
      "Patient_23 [[173 156  63]\n",
      " [341 331 182]]\n",
      "Patient_22 [[172 136 124]\n",
      " [333 311 255]]\n",
      "Patient_39 [[164 166  64]\n",
      " [329 323 183]]\n",
      "Patient_27 [[166 177  84]\n",
      " [341 339 206]]\n",
      "Patient_04 [[176 158  59]\n",
      " [343 338 178]]\n",
      "Patient_36 [[169 175  55]\n",
      " [334 339 175]]\n",
      "Patient_06 [[173 142 131]\n",
      " [340 320 237]]\n",
      "Patient_20 [[259 252  71]\n",
      " [435 430 203]]\n",
      "Patient_08 [[165 181  84]\n",
      " [340 360 200]]\n",
      "Patient_05 [[172 193 104]\n",
      " [336 349 207]]\n"
     ]
    }
   ],
   "source": [
    "border = 64\n",
    "for s in series:\n",
    "    image = loader_helper.read_nii(os.path.join(path, s, 'GT.nii.gz'))\n",
    "    bboxes = []\n",
    "    for i in range(5):\n",
    "        bboxes.append(loader_helper.bbox3(image==i))\n",
    "        \n",
    "    bbox = bboxes[0]\n",
    "    bbox[0] = bbox[0] - 64\n",
    "    bbox[1] = bbox[1] + 64\n",
    "    \n",
    "    for b in bboxes:\n",
    "        b[0] = b[0] - border\n",
    "        b[1] = b[1] + border\n",
    "        \n",
    "        bbox[0] = np.maximum(bbox[0], b[0])\n",
    "        bbox[1] = np.minimum(bbox[1], b[1])\n",
    "        \n",
    "    print(s, bbox)"
   ]
  },
  {
   "cell_type": "code",
   "execution_count": null,
   "metadata": {},
   "outputs": [],
   "source": []
  }
 ],
 "metadata": {
  "kernelspec": {
   "display_name": "Python 3.6",
   "language": "python",
   "name": "py36"
  },
  "language_info": {
   "codemirror_mode": {
    "name": "ipython",
    "version": 3
   },
   "file_extension": ".py",
   "mimetype": "text/x-python",
   "name": "python",
   "nbconvert_exporter": "python",
   "pygments_lexer": "ipython3",
   "version": "3.6.5"
  }
 },
 "nbformat": 4,
 "nbformat_minor": 2
}
