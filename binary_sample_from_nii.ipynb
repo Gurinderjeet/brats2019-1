{
 "cells": [
  {
   "cell_type": "code",
   "execution_count": 1,
   "metadata": {},
   "outputs": [],
   "source": [
    "import numpy as np\n",
    "import loader_helper"
   ]
  },
  {
   "cell_type": "code",
   "execution_count": 4,
   "metadata": {},
   "outputs": [],
   "source": [
    "data = loader_helper.read_nii('/home/localadmin/segthor/data/train_resampled1_1_25_cropped/Patient_01/Patient_01.nii.gz')\n",
    "label = loader_helper.read_nii('/home/localadmin/segthor/data/train_resampled1_1_25_cropped/Patient_01/GT.nii.gz')\n",
    "\n",
    "new_shape = tuple([loader_helper.closest_to_k(i, 16) for i in data.shape])\n",
    "diff = np.array(new_shape) - np.array(data.shape)\n",
    "pad_left = diff // 2\n",
    "pad_right = diff - pad_left\n",
    "        \n",
    "new_data = np.pad(data, pad_width=tuple([(pad_left[i], pad_right[i]) for i in range(3)]),\n",
    "                           mode='reflect')\n",
    "new_label = np.pad(label, pad_width=tuple([(pad_left[i], pad_right[i]) for i in range(3)]),\n",
    "                           mode='reflect')\n",
    "\n",
    "new_data = new_data[None,None]\n",
    "new_label = np.eye(5)[new_label.astype(np.int32)].transpose((3,0,1,2))[None]"
   ]
  },
  {
   "cell_type": "code",
   "execution_count": 5,
   "metadata": {},
   "outputs": [
    {
     "name": "stdout",
     "output_type": "stream",
     "text": [
      "(1, 1, 304, 240, 192)\n",
      "(1, 5, 304, 240, 192)\n"
     ]
    }
   ],
   "source": [
    "print(new_data.shape)\n",
    "print(new_label.shape)"
   ]
  },
  {
   "cell_type": "code",
   "execution_count": 7,
   "metadata": {},
   "outputs": [],
   "source": [
    "new_data.astype(np.float32).tofile('/home/localadmin/patient_01.bin')\n",
    "new_label.astype(np.float32).tofile('/home/localadmin/patient_01_gt.bin')"
   ]
  },
  {
   "cell_type": "code",
   "execution_count": null,
   "metadata": {},
   "outputs": [],
   "source": []
  }
 ],
 "metadata": {
  "kernelspec": {
   "display_name": "Python 3.6",
   "language": "python",
   "name": "py36"
  },
  "language_info": {
   "codemirror_mode": {
    "name": "ipython",
    "version": 3
   },
   "file_extension": ".py",
   "mimetype": "text/x-python",
   "name": "python",
   "nbconvert_exporter": "python",
   "pygments_lexer": "ipython3",
   "version": "3.6.8"
  }
 },
 "nbformat": 4,
 "nbformat_minor": 2
}
