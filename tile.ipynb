{
 "cells": [
  {
   "cell_type": "code",
   "execution_count": 1,
   "metadata": {},
   "outputs": [],
   "source": [
    "import numpy as np\n",
    "import loader_helper\n",
    "import nibabel as nii\n",
    "import torch"
   ]
  },
  {
   "cell_type": "code",
   "execution_count": 2,
   "metadata": {},
   "outputs": [],
   "source": [
    "input_path = '/home/localadmin/segthor/data/train_resampled/Patient_01/GT.nii.gz'\n",
    "output_path = './out.nii.gz'"
   ]
  },
  {
   "cell_type": "code",
   "execution_count": 3,
   "metadata": {},
   "outputs": [
    {
     "name": "stdout",
     "output_type": "stream",
     "text": [
      "torch.Size([1, 1, 500, 500, 305])\n"
     ]
    }
   ],
   "source": [
    "data_header = loader_helper.read_nii_header(input_path)\n",
    "\n",
    "data = np.array(data_header.get_data())[None,None,:,:,:]\n",
    "data = torch.Tensor(data)\n",
    "print(data.shape)"
   ]
  },
  {
   "cell_type": "code",
   "execution_count": 25,
   "metadata": {},
   "outputs": [],
   "source": [
    "tile_shape = (192,192,192)\n",
    "center_shape = (16,16,16)\n",
    "border = (88,88,88)"
   ]
  },
  {
   "cell_type": "code",
   "execution_count": 26,
   "metadata": {},
   "outputs": [
    {
     "name": "stdout",
     "output_type": "stream",
     "text": [
      "[32, 32, 20] 20480\n"
     ]
    }
   ],
   "source": [
    "grid = [int(np.ceil(j / i)) for i,j in zip(center_shape, data.shape[2:])]\n",
    "print(grid, np.prod(grid))"
   ]
  },
  {
   "cell_type": "code",
   "execution_count": 8,
   "metadata": {},
   "outputs": [],
   "source": [
    "output = torch.zeros(data.shape)\n",
    "\n",
    "for i in range(grid[0]):\n",
    "    for j in range(grid[1]):\n",
    "        for k in range(grid[2]):\n",
    "            index_min, index_max = loader_helper.get_indices(position=(i, j, k), center_shape=center_shape,\n",
    "                                                                     border=border)\n",
    "            tile = loader_helper.copy(data=data, tile_shape=tile_shape, index_min=index_min,\n",
    "                                              index_max=index_max)\n",
    "\n",
    "            loader_helper.copy_back(data=output, tile=tile, center_shape=center_shape, index_min=index_min,\n",
    "                                    index_max=index_max, border=border)"
   ]
  },
  {
   "cell_type": "code",
   "execution_count": 9,
   "metadata": {},
   "outputs": [],
   "source": [
    "output_header = nii.Nifti1Image(output[0,0].numpy().astype(np.uint8), data_header.affine)\n",
    "nii.save(output_header, output_path)\n"
   ]
  },
  {
   "cell_type": "code",
   "execution_count": 10,
   "metadata": {},
   "outputs": [
    {
     "name": "stdout",
     "output_type": "stream",
     "text": [
      "True\n"
     ]
    }
   ],
   "source": [
    "print(np.all(output == data))"
   ]
  },
  {
   "cell_type": "code",
   "execution_count": null,
   "metadata": {},
   "outputs": [],
   "source": []
  },
  {
   "cell_type": "code",
   "execution_count": 16,
   "metadata": {},
   "outputs": [
    {
     "name": "stdout",
     "output_type": "stream",
     "text": [
      "(array([], dtype=int64), array([], dtype=int64), array([], dtype=int64))\n"
     ]
    }
   ],
   "source": [
    "print(np.where(data_zeros!=data))\n",
    "w= np.where(data_zeros!=data)"
   ]
  },
  {
   "cell_type": "code",
   "execution_count": 17,
   "metadata": {},
   "outputs": [
    {
     "name": "stdout",
     "output_type": "stream",
     "text": [
      "0.037048366 0.037048366\n"
     ]
    }
   ],
   "source": [
    "print(data_zeros[0,0,0],data[0,0,0])"
   ]
  },
  {
   "cell_type": "code",
   "execution_count": null,
   "metadata": {},
   "outputs": [],
   "source": []
  },
  {
   "cell_type": "code",
   "execution_count": null,
   "metadata": {},
   "outputs": [],
   "source": []
  }
 ],
 "metadata": {
  "kernelspec": {
   "display_name": "Python 3.6",
   "language": "python",
   "name": "py36"
  },
  "language_info": {
   "codemirror_mode": {
    "name": "ipython",
    "version": 3
   },
   "file_extension": ".py",
   "mimetype": "text/x-python",
   "name": "python",
   "nbconvert_exporter": "python",
   "pygments_lexer": "ipython3",
   "version": "3.6.5"
  }
 },
 "nbformat": 4,
 "nbformat_minor": 2
}
